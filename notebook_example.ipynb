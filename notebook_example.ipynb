{
 "cells": [
  {
   "cell_type": "code",
   "execution_count": 23,
   "outputs": [
    {
     "data": {
      "text/plain": "  0%|          | 0/3 [00:00<?, ?it/s]",
      "application/vnd.jupyter.widget-view+json": {
       "version_major": 2,
       "version_minor": 0,
       "model_id": "98fa0e64f81743cfb52a310ccf01a170"
      }
     },
     "metadata": {},
     "output_type": "display_data"
    },
    {
     "name": "stdout",
     "output_type": "stream",
     "text": [
      "1/1 [==============================] - 1s 687ms/step\n",
      "SiMuCrEs\n",
      "4.7163347e-05\n",
      "_________\n",
      "1/1 [==============================] - 0s 25ms/step\n",
      "ConsolConlluvia\n",
      "0.50345904\n",
      "_________\n",
      "1/1 [==============================] - 0s 26ms/step\n",
      "MediasetTgcom24\n",
      "0.002723477\n",
      "_________\n"
     ]
    }
   ],
   "source": [
    "import importlib\n",
    "import pandas as pd\n",
    "from tqdm.notebook import tqdm\n",
    "import Trollmeter as tm\n",
    "importlib.reload(tm)\n",
    "lst = [\"SiMuCrEs\", \"ConsolConlluvia\", \"MediasetTgcom24\"]\n",
    "for i in tqdm(lst):\n",
    "    tm.calculate_troll_score(i)"
   ],
   "metadata": {
    "collapsed": false,
    "pycharm": {
     "name": "#%%\n"
    }
   }
  },
  {
   "cell_type": "code",
   "execution_count": 8,
   "outputs": [],
   "source": [
    "import importlib\n",
    "from tqdm.notebook import tqdm\n",
    "import Trollmeter as tm\n",
    "import pandas as pd\n",
    "path = r\"C:\\Users\\gianluca.nogara\\Downloads\\test\"\n",
    "df_tw_a = pd.read_csv(path + r\"\\df_tw_a_trolls_2.csv\", lineterminator='\\n', low_memory=False, encoding='utf-8')\n",
    "df_m_a = pd.read_csv(path + r\"\\df_m_a_trolls_2.csv\", lineterminator='\\n', low_memory=False, encoding='utf-8')\n",
    "df_rp_a = pd.read_csv(path + r\"\\df_rp_a_trolls_2.csv\", lineterminator='\\n', low_memory=False, encoding='utf-8')\n",
    "df_RT_a = pd.read_csv(path + r\"\\df_RT_a_trolls_2.csv\", lineterminator='\\n', low_memory=False, encoding='utf-8')\n",
    "\n",
    "df_RT_m = pd.read_csv(path + r\"\\df_RT_m_trolls_2.csv\", lineterminator='\\n', low_memory=False, encoding='utf-8')\n",
    "df_rp_m = pd.read_csv(path + r\"\\df_rp_m_trolls_2.csv\", lineterminator='\\n', low_memory=False, encoding='utf-8')\n",
    "df_m_m = pd.read_csv(path + r\"\\df_m_m_trolls_2.csv\", lineterminator='\\n', low_memory=False, encoding='utf-8')"
   ],
   "metadata": {
    "collapsed": false,
    "pycharm": {
     "name": "#%%\n"
    }
   }
  },
  {
   "cell_type": "code",
   "execution_count": 21,
   "outputs": [
    {
     "name": "stdout",
     "output_type": "stream",
     "text": [
      "user planetpaul65 has 238 actions and 0 states\n",
      "user Grace_1207 has 287 actions and 2 states\n",
      "user MarisaMinervini has 1 actions and 0 states\n",
      "user arual812 has 617 actions and 4 states\n",
      "user pvsassone has 1757 actions and 4 states\n",
      "user elisa24102 has 45 actions and 0 states\n",
      "user BrunoCervesi has 18 actions and 0 states\n",
      "user pakkiola has 2 actions and 0 states\n",
      "user MaliziaRosy has 1 actions and 0 states\n",
      "user r31458893 has 20 actions and 3 states\n",
      "user UnTemaAlGiorno has 77 actions and 4 states\n",
      "user VivianEmpire has 5 actions and 0 states\n",
      "user visitorcity has 37 actions and 0 states\n",
      "user MilettoMaria has 123 actions and 1 states\n",
      "user BiasiErika has 7 actions and 0 states\n",
      "user Monica13293502 has 1 actions and 0 states\n",
      "user mistermeo has 162 actions and 0 states\n",
      "user GerberArancio has 7 actions and 0 states\n",
      "user lara_ugolini has 108 actions and 0 states\n",
      "user alep_1972 has 19 actions and 0 states\n",
      "user vicinolontano has 27 actions and 0 states\n",
      "user lisadagliocchib has 20 actions and 1 states\n",
      "user __Aislyn__ has 2 actions and 0 states\n",
      "user Goldie9911 has 10 actions and 0 states\n",
      "user scheerenberger has 83 actions and 0 states\n",
      "user AnnaTulliach has 1 actions and 0 states\n",
      "user Alberto63Al has 12 actions and 0 states\n",
      "user RTonyi has 69 actions and 0 states\n",
      "user sharondeluca5 has 14 actions and 0 states\n",
      "user mario0549 has 162 actions and 0 states\n",
      "user patrizia_silano has 109 actions and 1 states\n",
      "user ElenaCordiviola has 4 actions and 0 states\n",
      "user Marco_Eff has 44 actions and 0 states\n",
      "user hans312 has 16 actions and 1 states\n",
      "user CARLABINCI has 15 actions and 0 states\n",
      "user screzia has 35 actions and 0 states\n",
      "user Moixus1970 has 1305 actions and 2 states\n",
      "user PaolaAguggia has 86 actions and 0 states\n",
      "user Intuitizioni has 11 actions and 2 states\n",
      "user sara309_60 has 4 actions and 0 states\n",
      "user Harael14 has 38 actions and 0 states\n",
      "user joliet_gribuia has 23 actions and 0 states\n",
      "user Popopozau has 46 actions and 0 states\n",
      "user annamarone has 255 actions and 2 states\n",
      "user AmaliaGuida has 245 actions and 1 states\n",
      "user tiziRMA has 192 actions and 3 states\n",
      "user Chiara15435666 has 1 actions and 0 states\n",
      "user caruso1967 has 11 actions and 0 states\n",
      "user Gaetan0Miranda has 5 actions and 0 states\n",
      "user with_earphones has 8 actions and 0 states\n",
      "user paolacapello3 has 41 actions and 0 states\n",
      "user RetwittL has 18 actions and 0 states\n",
      "user NethipEdien2000 has 248 actions and 0 states\n",
      "user MarchesiMattia has 129 actions and 0 states\n",
      "user Asgard_Hydra has 279 actions and 2 states\n",
      "user MollyBloom82 has 2 actions and 20 states\n",
      "user tomlinssolo has 4 actions and 0 states\n",
      "user ne1986 has 2 actions and 0 states\n",
      "user lady_ornot has 14 actions and 4 states\n",
      "user Arturo_Barletta has 6 actions and 2 states\n",
      "user saradellamonaca has 4 actions and 1 states\n",
      "user gioca63 has 18 actions and 2 states\n",
      "user fotidaniela1971 has 3 actions and 0 states\n",
      "user Aemmedi has 4 actions and 6 states\n",
      "user fondazionelkt has 1 actions and 5 states\n",
      "user OtticaSilverio has 1 actions and 0 states\n",
      "user DuomodiMilano has 1 actions and 7 states\n",
      "user CeSPI_Roma has 2 actions and 9 states\n",
      "user italyinkz has 1 actions and 2 states\n",
      "1/1 [==============================] - 1s 810ms/step\n",
      "DemosuMarte\n",
      "0.009441105\n",
      "_________\n",
      "SalaLettura\n",
      "0.87845963\n",
      "_________\n",
      "Carmela_oltre\n",
      "2.7200216e-05\n",
      "_________\n",
      "Fresia07818012\n",
      "6.771644e-05\n",
      "_________\n",
      "AntonioCampo4\n",
      "6.771644e-05\n",
      "_________\n",
      "SerenettaMonti\n",
      "6.0639377e-05\n",
      "_________\n",
      "rebeccaabdu\n",
      "6.771644e-05\n",
      "_________\n",
      "calabraducia\n",
      "6.654294e-05\n",
      "_________\n",
      "SergioSierra67\n",
      "7.055748e-05\n",
      "_________\n",
      "nicolettagiust1\n",
      "6.771644e-05\n",
      "_________\n",
      "Andreacritico\n",
      "6.427748e-05\n",
      "_________\n",
      "nuccia20\n",
      "6.5587614e-05\n",
      "_________\n",
      "LaCris297\n",
      "6.771644e-05\n",
      "_________\n",
      "rudi_de_fanti\n",
      "6.0569448e-05\n",
      "_________\n",
      "contu_f\n",
      "6.771644e-05\n",
      "_________\n",
      "SanremoAncheNoi\n",
      "6.5500986e-05\n",
      "_________\n",
      "Antigon25386936\n",
      "0.030339709\n",
      "_________\n",
      "Valter14032653\n",
      "6.642812e-05\n",
      "_________\n",
      "Primula23244790\n",
      "6.771644e-05\n",
      "_________\n",
      "_teo777\n",
      "6.6433e-05\n",
      "_________\n",
      "iltrumpo\n",
      "6.661951e-05\n",
      "_________\n",
      "Giulio_Nosotti\n",
      "6.771644e-05\n",
      "_________\n",
      "chiaralaporella\n",
      "6.650183e-05\n",
      "_________\n",
      "ellamari53\n",
      "0.71946603\n",
      "_________\n",
      "ross27767\n",
      "2.4519171e-05\n",
      "_________\n",
      "LecceSette\n",
      "9.7567914e-05\n",
      "_________\n"
     ]
    }
   ],
   "source": [
    "importlib.reload(tm)\n",
    "tm.calculate_troll_score(\"random\", collection=False, df_tw_a=df_tw_a, df_m_a=df_m_a, df_rp_a=df_rp_a, df_RT_a=df_RT_a,\n",
    "                         df_RT_m=df_RT_m, df_rp_m=df_rp_m, df_m_m=df_m_m)"
   ],
   "metadata": {
    "collapsed": false,
    "pycharm": {
     "name": "#%%\n"
    }
   }
  },
  {
   "cell_type": "code",
   "execution_count": null,
   "outputs": [],
   "source": [],
   "metadata": {
    "collapsed": false,
    "pycharm": {
     "name": "#%%\n"
    }
   }
  }
 ],
 "metadata": {
  "kernelspec": {
   "display_name": "Python 3",
   "language": "python",
   "name": "python3"
  },
  "language_info": {
   "codemirror_mode": {
    "name": "ipython",
    "version": 2
   },
   "file_extension": ".py",
   "mimetype": "text/x-python",
   "name": "python",
   "nbconvert_exporter": "python",
   "pygments_lexer": "ipython2",
   "version": "2.7.6"
  }
 },
 "nbformat": 4,
 "nbformat_minor": 0
}