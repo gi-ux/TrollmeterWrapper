{
 "cells": [
  {
   "cell_type": "code",
   "execution_count": 15,
   "outputs": [
    {
     "data": {
      "text/plain": "  0%|          | 0/1 [00:00<?, ?it/s]",
      "application/vnd.jupyter.widget-view+json": {
       "version_major": 2,
       "version_minor": 0,
       "model_id": "a07cede78fa043cba800a183dfc66b90"
      }
     },
     "metadata": {},
     "output_type": "display_data"
    },
    {
     "name": "stdout",
     "output_type": "stream",
     "text": [
      "Starting collection...\n",
      "Both\n",
      "Original:  7\n",
      "Reply:  19\n",
      "Retweet:  4\n",
      "Mentions:  0\n",
      "RTs:  10\n",
      "RPs:  10\n",
      "MNTs:  10\n",
      "Data collected!\n",
      "-----------------\n",
      "creating traj for elonmusk\n",
      "Traj calculated!\n",
      "-----------------\n",
      "1/1 [==============================] - 1s 964ms/step\n",
      "Troll score: 0.8497828841209412\n"
     ]
    }
   ],
   "source": [
    "import importlib\n",
    "from tqdm.notebook import tqdm\n",
    "import Trollmeter as tm\n",
    "importlib.reload(tm)\n",
    "lst = [\"elonmusk\"]\n",
    "for i in tqdm(lst):\n",
    "    tm.calculate_troll_score(i)"
   ],
   "metadata": {
    "collapsed": false,
    "pycharm": {
     "name": "#%%\n"
    }
   }
  },
  {
   "cell_type": "code",
   "execution_count": null,
   "outputs": [],
   "source": [],
   "metadata": {
    "collapsed": false,
    "pycharm": {
     "name": "#%%\n"
    }
   }
  }
 ],
 "metadata": {
  "kernelspec": {
   "display_name": "Python 3",
   "language": "python",
   "name": "python3"
  },
  "language_info": {
   "codemirror_mode": {
    "name": "ipython",
    "version": 2
   },
   "file_extension": ".py",
   "mimetype": "text/x-python",
   "name": "python",
   "nbconvert_exporter": "python",
   "pygments_lexer": "ipython2",
   "version": "2.7.6"
  }
 },
 "nbformat": 4,
 "nbformat_minor": 0
}