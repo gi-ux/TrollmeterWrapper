{
 "cells": [
  {
   "cell_type": "code",
   "execution_count": 37,
   "outputs": [
    {
     "data": {
      "text/plain": "  0%|          | 0/3 [00:00<?, ?it/s]",
      "application/vnd.jupyter.widget-view+json": {
       "version_major": 2,
       "version_minor": 0,
       "model_id": "bb18c55314014450a2902f22ce667fd6"
      }
     },
     "metadata": {},
     "output_type": "display_data"
    },
    {
     "name": "stdout",
     "output_type": "stream",
     "text": [
      "1/1 [==============================] - 1s 686ms/step\n",
      "Troll score: 4.58673202956561e-05\n",
      "1/1 [==============================] - 0s 25ms/step\n",
      "Troll score: 0.00012093275290681049\n",
      "1/1 [==============================] - 0s 29ms/step\n",
      "Troll score: 0.0027234770823270082\n"
     ]
    }
   ],
   "source": [
    "import importlib\n",
    "from tqdm.notebook import tqdm\n",
    "import Trollmeter as tm\n",
    "importlib.reload(tm)\n",
    "lst = [\"SiMuCrEs\", \"ConsolConlluvia\", \"MediasetTgcom24\"]\n",
    "for i in tqdm(lst):\n",
    "    tm.calculate_troll_score(i)"
   ],
   "metadata": {
    "collapsed": false,
    "pycharm": {
     "name": "#%%\n"
    }
   }
  },
  {
   "cell_type": "code",
   "execution_count": null,
   "outputs": [],
   "source": [],
   "metadata": {
    "collapsed": false,
    "pycharm": {
     "name": "#%%\n"
    }
   }
  }
 ],
 "metadata": {
  "kernelspec": {
   "display_name": "Python 3",
   "language": "python",
   "name": "python3"
  },
  "language_info": {
   "codemirror_mode": {
    "name": "ipython",
    "version": 2
   },
   "file_extension": ".py",
   "mimetype": "text/x-python",
   "name": "python",
   "nbconvert_exporter": "python",
   "pygments_lexer": "ipython2",
   "version": "2.7.6"
  }
 },
 "nbformat": 4,
 "nbformat_minor": 0
}