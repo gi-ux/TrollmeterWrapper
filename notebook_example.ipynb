{
 "cells": [
  {
   "cell_type": "code",
   "execution_count": 1,
   "outputs": [
    {
     "data": {
      "text/plain": "  0%|          | 0/1 [00:00<?, ?it/s]",
      "application/vnd.jupyter.widget-view+json": {
       "version_major": 2,
       "version_minor": 0,
       "model_id": "4c0e2b6356084842ae52e150f406a48c"
      }
     },
     "metadata": {},
     "output_type": "display_data"
    },
    {
     "name": "stdout",
     "output_type": "stream",
     "text": [
      "Starting collection...\n",
      "Collecting tweets for  elonmusk\n",
      "Collecting retweets received for  elonmusk\n",
      "Collecting mentions received for  elonmusk\n",
      "Collecting replies received for elonmusk\n",
      "Data collected!\n",
      "-----------------\n",
      "creating traj for elonmusk\n",
      "Traj calculated!\n",
      "-----------------\n",
      "1/1 [==============================] - 1s 815ms/step\n",
      "Troll score: 0.007346014026552439\n"
     ]
    }
   ],
   "source": [
    "from tqdm.notebook import tqdm\n",
    "import Trollmeter as tm\n",
    "lst = [\"elonmusk\"]\n",
    "for i in tqdm(lst):\n",
    "    tm.calculate_troll_score(\"elonmusk\")"
   ],
   "metadata": {
    "collapsed": false,
    "pycharm": {
     "name": "#%%\n"
    }
   }
  },
  {
   "cell_type": "code",
   "execution_count": null,
   "outputs": [],
   "source": [],
   "metadata": {
    "collapsed": false,
    "pycharm": {
     "name": "#%%\n"
    }
   }
  }
 ],
 "metadata": {
  "kernelspec": {
   "display_name": "Python 3",
   "language": "python",
   "name": "python3"
  },
  "language_info": {
   "codemirror_mode": {
    "name": "ipython",
    "version": 2
   },
   "file_extension": ".py",
   "mimetype": "text/x-python",
   "name": "python",
   "nbconvert_exporter": "python",
   "pygments_lexer": "ipython2",
   "version": "2.7.6"
  }
 },
 "nbformat": 4,
 "nbformat_minor": 0
}